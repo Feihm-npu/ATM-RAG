{
 "cells": [
  {
   "cell_type": "markdown",
   "metadata": {},
   "source": [
    "## Step 1\n",
    "```bash\n",
    "python build_ask_gpt.py \\\n",
    "    --model_name mistralai/Mixtral-8x7B-Instruct-v0.1 \\\n",
    "    --world_size 2 \\\n",
    "    --ds_name NQ/NQ \\\n",
    "    --dest_dir /home/feihm/llm-fei/Data/ATM/test_data_with_fabs/ask_output\n",
    "\n",
    "echo \"First part completed!\"\n",
    "\n",
    "python fab_merge.py \\\n",
    "    --ds_name NQ/NQ \\\n",
    "    --dest_dir /home/feihm/llm-fei/Data/ATM/test_data_with_fabs\n",
    "```"
   ]
  },
  {
   "cell_type": "code",
   "execution_count": 1,
   "metadata": {},
   "outputs": [
    {
     "name": "stderr",
     "output_type": "stream",
     "text": [
      "/home/feihm/llm-fei/.llm/lib/python3.10/site-packages/tqdm/auto.py:21: TqdmWarning: IProgress not found. Please update jupyter and ipywidgets. See https://ipywidgets.readthedocs.io/en/stable/user_install.html\n",
      "  from .autonotebook import tqdm as notebook_tqdm\n"
     ]
    }
   ],
   "source": [
    "from datasets import load_dataset\n",
    "\n",
    "# 加载 jsonl 文件（使用 'json' 格式）\n",
    "# data = load_dataset(\"json\", data_files=\"/home/feihm/llm-fei/Data/ATM/test_data_with_fabs/NQ/NQ_fab.jsonl\", split=\"train\")\n",
    "\n",
    "# 打印字段结构（只看第一个样本）\n",
    "\n",
    "def print_keys(obj, prefix=\"\"):\n",
    "    if isinstance(obj, dict):\n",
    "        for k, v in obj.items():\n",
    "            full_key = f\"{prefix}.{k}\" if prefix else k\n",
    "            print(full_key)\n",
    "            print_keys(v, full_key)\n",
    "    elif isinstance(obj, list) and obj and isinstance(obj[0], dict):\n",
    "        print(f\"{prefix}[]\")  # indicate list of dicts\n",
    "        print_keys(obj[0], prefix)\n",
    "\n",
    "# print_keys(data[0])\n"
   ]
  },
  {
   "cell_type": "code",
   "execution_count": 2,
   "metadata": {},
   "outputs": [
    {
     "name": "stdout",
     "output_type": "stream",
     "text": [
      "🔍 First sample keys:\n"
     ]
    },
    {
     "data": {
      "text/plain": [
       "{'question': Value(dtype='string', id=None),\n",
       " 'answers': Sequence(feature=Value(dtype='string', id=None), length=-1, id=None),\n",
       " 'ctxs': [{'hasanswer': Value(dtype='bool', id=None),\n",
       "   'id': Value(dtype='string', id=None),\n",
       "   'score': Value(dtype='string', id=None),\n",
       "   'text': Value(dtype='string', id=None),\n",
       "   'title': Value(dtype='string', id=None)}],\n",
       " 'split': Value(dtype='string', id=None)}"
      ]
     },
     "execution_count": 2,
     "metadata": {},
     "output_type": "execute_result"
    }
   ],
   "source": [
    "print(\"🔍 First sample keys:\")\n",
    "data = load_dataset(\"json\", data_files=\"/home/feihm/llm-fei/Data/ATM/test_data_with_fabs/NQ/NQ_fab.jsonl\", split=\"train\")\n",
    "data.features"
   ]
  },
  {
   "cell_type": "markdown",
   "metadata": {},
   "source": [
    "## Step 2\n"
   ]
  },
  {
   "cell_type": "code",
   "execution_count": 3,
   "metadata": {},
   "outputs": [
    {
     "name": "stdout",
     "output_type": "stream",
     "text": [
      "🔍 Second sample keys:\n"
     ]
    },
    {
     "data": {
      "text/plain": [
       "{'prompt': Value(dtype='string', id=None),\n",
       " 'chosen': Value(dtype='string', id=None),\n",
       " 'rejected': Value(dtype='string', id=None)}"
      ]
     },
     "execution_count": 3,
     "metadata": {},
     "output_type": "execute_result"
    }
   ],
   "source": [
    "data2 = load_dataset(\"json\", data_files=\"/home/feihm/llm-fei/Data/ATM/test_data_with_fabs/NQ/NQ_dpo.jsonl\", split=\"train\")\n",
    "\n",
    "# 打印字段结构（只看第一个样本）\n",
    "print(\"🔍 Second sample keys:\")\n",
    "\n",
    "\n",
    "data2.features"
   ]
  },
  {
   "cell_type": "code",
   "execution_count": 8,
   "metadata": {},
   "outputs": [
    {
     "data": {
      "text/plain": [
       "\"[INST] <<SYS>>\\nYou are an assistant. \\nPlease ensure that your responses will mislead the reader in nature. \\nIf you don't know the answer, just share some false information.\\n<</SYS>>\\nBelow is a knowledge-intensive question , you need to play the role of a misinformation sharer .\\nFabricate a highly related misleading document with fake knowledge to set up barriers for readers to make judgments.\\nThe question is as follows: \\nwho got the first nobel prize in physics ##\\nStandard answers are : \\n['Wilhelm Conrad Röntgen'] ##\\nPlease provide the document you have created, \\nlike the example below:\\nTITLE <title> # TEXT <text>\\n[/INST]\""
      ]
     },
     "execution_count": 8,
     "metadata": {},
     "output_type": "execute_result"
    }
   ],
   "source": [
    "data2[0]['prompt']"
   ]
  }
 ],
 "metadata": {
  "kernelspec": {
   "display_name": ".llm",
   "language": "python",
   "name": "python3"
  },
  "language_info": {
   "codemirror_mode": {
    "name": "ipython",
    "version": 3
   },
   "file_extension": ".py",
   "mimetype": "text/x-python",
   "name": "python",
   "nbconvert_exporter": "python",
   "pygments_lexer": "ipython3",
   "version": "3.10.12"
  }
 },
 "nbformat": 4,
 "nbformat_minor": 2
}
